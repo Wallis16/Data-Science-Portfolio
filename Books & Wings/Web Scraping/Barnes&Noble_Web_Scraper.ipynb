{
  "nbformat": 4,
  "nbformat_minor": 0,
  "metadata": {
    "colab": {
      "name": "Barnes&Noble_Web_Scraper.ipynb",
      "provenance": [],
      "collapsed_sections": []
    },
    "kernelspec": {
      "name": "python3",
      "display_name": "Python 3"
    },
    "language_info": {
      "name": "python"
    }
  },
  "cells": [
    {
      "cell_type": "markdown",
      "source": [
        "### Web Scraping"
      ],
      "metadata": {
        "id": "vYneq5_Y9qDH"
      }
    },
    {
      "cell_type": "code",
      "source": [
        "import requests\n",
        "from bs4 import BeautifulSoup\n",
        "import pandas as pd\n",
        "from time import sleep\n",
        "\n",
        "import requests\n",
        "from bs4 import BeautifulSoup\n",
        "\n",
        "headers = {\n",
        "    'Host': 'www.barnesandnoble.com',\n",
        "    'User-Agent': 'Mozilla/5.0 (Windows NT 10.0; Win64; x64; rv:70.0) Gecko/20100101 Firefox/70.0',\n",
        "    'Accept': 'text/html,application/xhtml+xml,application/xml;q=0.9,*/*;q=0.8',\n",
        "    'Accept-Language': 'en-US,en;q=0.5',\n",
        "    'Accept-Encoding': 'gzip, deflate, br',\n",
        "    'Connection': 'keep-alive',\n",
        "    'Upgrade-Insecure-Requests': '1',\n",
        "    'TE': 'Trailers'\n",
        "}\n",
        "\n",
        "alls = []\n",
        "\n",
        "for k in range(1,5):\n",
        "\n",
        "  URL = \"https://www.barnesandnoble.com/b/books/_/N-1fZ29Z8q8?Nrpp=20&page=\"+str(k)\n",
        "  page = requests.get(URL, headers=headers)\n",
        "  soup = BeautifulSoup(page.content, \"html.parser\")\n",
        "  results = soup.find(id=\"listView\")\n",
        "\n",
        "  for n,_ in enumerate(results.find_all(\"h3\", class_=\"product-info-title\")):\n",
        "\n",
        "    all = []\n",
        "\n",
        "    try:\n",
        "\n",
        "      title = results.find_all(\"h3\", class_=\"product-info-title\")[n].text.split(\"(\")[0][1:-1]\n",
        "      year = results.find_all(\"h3\", class_=\"product-info-title\")[n].text.split(\"(\")[-1][6:-2]\n",
        "      author = results.find_all(\"div\", class_=\"product-shelf-author\")[n].text.strip()[3:]\n",
        "      price = results.find_all(\"span\", class_=\"sr-only\")[n].text.split(\",\")[0][-5:]\n",
        "      book_cover = results.find_all(\"a\", class_=\"format\")[n].text\n",
        "\n",
        "      all.append(title)\n",
        "      all.append(year)\n",
        "      all.append(author)\n",
        "      all.append(price)\n",
        "      all.append(book_cover)\n",
        "\n",
        "    except:\n",
        "      print(\"--------------------------\",n,\"-------------------------\")\n",
        "\n",
        "    alls.append(all)"
      ],
      "metadata": {
        "id": "RJFvhMYsQ32g"
      },
      "execution_count": null,
      "outputs": []
    },
    {
      "cell_type": "code",
      "source": [
        "df = pd.DataFrame(alls,columns=['Book Name','Year','Author','Price', 'Book_cover'])\n",
        "df.to_csv('barnes&noble_products.csv', index=False, encoding='utf-8')"
      ],
      "metadata": {
        "id": "s10EKS7NRsHd"
      },
      "execution_count": null,
      "outputs": []
    },
    {
      "cell_type": "markdown",
      "source": [
        "### Data Cleaning"
      ],
      "metadata": {
        "id": "MbdUcLmK5SIE"
      }
    },
    {
      "cell_type": "code",
      "source": [
        "import pandas as pd"
      ],
      "metadata": {
        "id": "3uBHrsf25XRI"
      },
      "execution_count": null,
      "outputs": []
    },
    {
      "cell_type": "code",
      "source": [
        "df = pd.read_csv(\"/content/drive/MyDrive/DS/Portfolio/Books and Wings/Data/barnes&noble_products.csv\")\n",
        "print(len(df))"
      ],
      "metadata": {
        "id": "soii4MzISwGV"
      },
      "execution_count": null,
      "outputs": []
    },
    {
      "cell_type": "code",
      "source": [
        "df_book = df.copy()\n",
        "df_book = df_book.dropna()"
      ],
      "metadata": {
        "id": "3msdLhFkTmhM"
      },
      "execution_count": null,
      "outputs": []
    },
    {
      "cell_type": "code",
      "source": [
        "print(len(df_book))\n",
        "df_book"
      ],
      "metadata": {
        "colab": {
          "base_uri": "https://localhost:8080/",
          "height": 441
        },
        "id": "kgu9b8SZ6UKa",
        "outputId": "0c45bceb-027f-464f-fbca-40fa728584d0"
      },
      "execution_count": null,
      "outputs": [
        {
          "output_type": "stream",
          "name": "stdout",
          "text": [
            "80\n"
          ]
        },
        {
          "output_type": "execute_result",
          "data": {
            "text/plain": [
              "                                            Book Name  Year  \\\n",
              "0                              Heartstopper, Volume 2  2020   \n",
              "1                              Heartstopper, Volume 1  2020   \n",
              "2   The Mothers and Daughters of the Bible Speak: ...  2022   \n",
              "3                                         Book Lovers  2022   \n",
              "4                                          Knight Owl  2022   \n",
              "..                                                ...   ...   \n",
              "75                                         Shatter Me  2018   \n",
              "76                                 The Flames of Hope  2022   \n",
              "77                                  The Alice Network  2017   \n",
              "78                                Because of You, Mom  2021   \n",
              "79                        Romancing Mister Bridgerton  2021   \n",
              "\n",
              "                                        Author  Price Book_cover  \n",
              "0                                 Alice Oseman  12.99  Paperback  \n",
              "1                                 Alice Oseman  12.99  Paperback  \n",
              "2                                Shannon Bream  19.99  Hardcover  \n",
              "3                                  Emily Henry  14.99  Paperback  \n",
              "4                           Christopher Denise  14.99  Hardcover  \n",
              "..                                         ...    ...        ...  \n",
              "75                                Tahereh Mafi  10.49  Paperback  \n",
              "76                           Tui T. Sutherland  14.99  Hardcover  \n",
              "77                                  Kate Quinn  13.99  Paperback  \n",
              "78  Kobi Yamada, Natalie Russell (Illustrator)  $8.99  Hardcover  \n",
              "79                                 Julia Quinn  14.49  Paperback  \n",
              "\n",
              "[80 rows x 5 columns]"
            ],
            "text/html": [
              "\n",
              "  <div id=\"df-2a7f6d63-6fdb-455d-b43e-afcd42c68e0d\">\n",
              "    <div class=\"colab-df-container\">\n",
              "      <div>\n",
              "<style scoped>\n",
              "    .dataframe tbody tr th:only-of-type {\n",
              "        vertical-align: middle;\n",
              "    }\n",
              "\n",
              "    .dataframe tbody tr th {\n",
              "        vertical-align: top;\n",
              "    }\n",
              "\n",
              "    .dataframe thead th {\n",
              "        text-align: right;\n",
              "    }\n",
              "</style>\n",
              "<table border=\"1\" class=\"dataframe\">\n",
              "  <thead>\n",
              "    <tr style=\"text-align: right;\">\n",
              "      <th></th>\n",
              "      <th>Book Name</th>\n",
              "      <th>Year</th>\n",
              "      <th>Author</th>\n",
              "      <th>Price</th>\n",
              "      <th>Book_cover</th>\n",
              "    </tr>\n",
              "  </thead>\n",
              "  <tbody>\n",
              "    <tr>\n",
              "      <th>0</th>\n",
              "      <td>Heartstopper, Volume 2</td>\n",
              "      <td>2020</td>\n",
              "      <td>Alice Oseman</td>\n",
              "      <td>12.99</td>\n",
              "      <td>Paperback</td>\n",
              "    </tr>\n",
              "    <tr>\n",
              "      <th>1</th>\n",
              "      <td>Heartstopper, Volume 1</td>\n",
              "      <td>2020</td>\n",
              "      <td>Alice Oseman</td>\n",
              "      <td>12.99</td>\n",
              "      <td>Paperback</td>\n",
              "    </tr>\n",
              "    <tr>\n",
              "      <th>2</th>\n",
              "      <td>The Mothers and Daughters of the Bible Speak: ...</td>\n",
              "      <td>2022</td>\n",
              "      <td>Shannon Bream</td>\n",
              "      <td>19.99</td>\n",
              "      <td>Hardcover</td>\n",
              "    </tr>\n",
              "    <tr>\n",
              "      <th>3</th>\n",
              "      <td>Book Lovers</td>\n",
              "      <td>2022</td>\n",
              "      <td>Emily Henry</td>\n",
              "      <td>14.99</td>\n",
              "      <td>Paperback</td>\n",
              "    </tr>\n",
              "    <tr>\n",
              "      <th>4</th>\n",
              "      <td>Knight Owl</td>\n",
              "      <td>2022</td>\n",
              "      <td>Christopher Denise</td>\n",
              "      <td>14.99</td>\n",
              "      <td>Hardcover</td>\n",
              "    </tr>\n",
              "    <tr>\n",
              "      <th>...</th>\n",
              "      <td>...</td>\n",
              "      <td>...</td>\n",
              "      <td>...</td>\n",
              "      <td>...</td>\n",
              "      <td>...</td>\n",
              "    </tr>\n",
              "    <tr>\n",
              "      <th>75</th>\n",
              "      <td>Shatter Me</td>\n",
              "      <td>2018</td>\n",
              "      <td>Tahereh Mafi</td>\n",
              "      <td>10.49</td>\n",
              "      <td>Paperback</td>\n",
              "    </tr>\n",
              "    <tr>\n",
              "      <th>76</th>\n",
              "      <td>The Flames of Hope</td>\n",
              "      <td>2022</td>\n",
              "      <td>Tui T. Sutherland</td>\n",
              "      <td>14.99</td>\n",
              "      <td>Hardcover</td>\n",
              "    </tr>\n",
              "    <tr>\n",
              "      <th>77</th>\n",
              "      <td>The Alice Network</td>\n",
              "      <td>2017</td>\n",
              "      <td>Kate Quinn</td>\n",
              "      <td>13.99</td>\n",
              "      <td>Paperback</td>\n",
              "    </tr>\n",
              "    <tr>\n",
              "      <th>78</th>\n",
              "      <td>Because of You, Mom</td>\n",
              "      <td>2021</td>\n",
              "      <td>Kobi Yamada, Natalie Russell (Illustrator)</td>\n",
              "      <td>$8.99</td>\n",
              "      <td>Hardcover</td>\n",
              "    </tr>\n",
              "    <tr>\n",
              "      <th>79</th>\n",
              "      <td>Romancing Mister Bridgerton</td>\n",
              "      <td>2021</td>\n",
              "      <td>Julia Quinn</td>\n",
              "      <td>14.49</td>\n",
              "      <td>Paperback</td>\n",
              "    </tr>\n",
              "  </tbody>\n",
              "</table>\n",
              "<p>80 rows × 5 columns</p>\n",
              "</div>\n",
              "      <button class=\"colab-df-convert\" onclick=\"convertToInteractive('df-2a7f6d63-6fdb-455d-b43e-afcd42c68e0d')\"\n",
              "              title=\"Convert this dataframe to an interactive table.\"\n",
              "              style=\"display:none;\">\n",
              "        \n",
              "  <svg xmlns=\"http://www.w3.org/2000/svg\" height=\"24px\"viewBox=\"0 0 24 24\"\n",
              "       width=\"24px\">\n",
              "    <path d=\"M0 0h24v24H0V0z\" fill=\"none\"/>\n",
              "    <path d=\"M18.56 5.44l.94 2.06.94-2.06 2.06-.94-2.06-.94-.94-2.06-.94 2.06-2.06.94zm-11 1L8.5 8.5l.94-2.06 2.06-.94-2.06-.94L8.5 2.5l-.94 2.06-2.06.94zm10 10l.94 2.06.94-2.06 2.06-.94-2.06-.94-.94-2.06-.94 2.06-2.06.94z\"/><path d=\"M17.41 7.96l-1.37-1.37c-.4-.4-.92-.59-1.43-.59-.52 0-1.04.2-1.43.59L10.3 9.45l-7.72 7.72c-.78.78-.78 2.05 0 2.83L4 21.41c.39.39.9.59 1.41.59.51 0 1.02-.2 1.41-.59l7.78-7.78 2.81-2.81c.8-.78.8-2.07 0-2.86zM5.41 20L4 18.59l7.72-7.72 1.47 1.35L5.41 20z\"/>\n",
              "  </svg>\n",
              "      </button>\n",
              "      \n",
              "  <style>\n",
              "    .colab-df-container {\n",
              "      display:flex;\n",
              "      flex-wrap:wrap;\n",
              "      gap: 12px;\n",
              "    }\n",
              "\n",
              "    .colab-df-convert {\n",
              "      background-color: #E8F0FE;\n",
              "      border: none;\n",
              "      border-radius: 50%;\n",
              "      cursor: pointer;\n",
              "      display: none;\n",
              "      fill: #1967D2;\n",
              "      height: 32px;\n",
              "      padding: 0 0 0 0;\n",
              "      width: 32px;\n",
              "    }\n",
              "\n",
              "    .colab-df-convert:hover {\n",
              "      background-color: #E2EBFA;\n",
              "      box-shadow: 0px 1px 2px rgba(60, 64, 67, 0.3), 0px 1px 3px 1px rgba(60, 64, 67, 0.15);\n",
              "      fill: #174EA6;\n",
              "    }\n",
              "\n",
              "    [theme=dark] .colab-df-convert {\n",
              "      background-color: #3B4455;\n",
              "      fill: #D2E3FC;\n",
              "    }\n",
              "\n",
              "    [theme=dark] .colab-df-convert:hover {\n",
              "      background-color: #434B5C;\n",
              "      box-shadow: 0px 1px 3px 1px rgba(0, 0, 0, 0.15);\n",
              "      filter: drop-shadow(0px 1px 2px rgba(0, 0, 0, 0.3));\n",
              "      fill: #FFFFFF;\n",
              "    }\n",
              "  </style>\n",
              "\n",
              "      <script>\n",
              "        const buttonEl =\n",
              "          document.querySelector('#df-2a7f6d63-6fdb-455d-b43e-afcd42c68e0d button.colab-df-convert');\n",
              "        buttonEl.style.display =\n",
              "          google.colab.kernel.accessAllowed ? 'block' : 'none';\n",
              "\n",
              "        async function convertToInteractive(key) {\n",
              "          const element = document.querySelector('#df-2a7f6d63-6fdb-455d-b43e-afcd42c68e0d');\n",
              "          const dataTable =\n",
              "            await google.colab.kernel.invokeFunction('convertToInteractive',\n",
              "                                                     [key], {});\n",
              "          if (!dataTable) return;\n",
              "\n",
              "          const docLinkHtml = 'Like what you see? Visit the ' +\n",
              "            '<a target=\"_blank\" href=https://colab.research.google.com/notebooks/data_table.ipynb>data table notebook</a>'\n",
              "            + ' to learn more about interactive tables.';\n",
              "          element.innerHTML = '';\n",
              "          dataTable['output_type'] = 'display_data';\n",
              "          await google.colab.output.renderOutput(dataTable, element);\n",
              "          const docLink = document.createElement('div');\n",
              "          docLink.innerHTML = docLinkHtml;\n",
              "          element.appendChild(docLink);\n",
              "        }\n",
              "      </script>\n",
              "    </div>\n",
              "  </div>\n",
              "  "
            ]
          },
          "metadata": {},
          "execution_count": 10
        }
      ]
    },
    {
      "cell_type": "code",
      "source": [
        "df_book['Price'] = df_book['Price'].str.replace(r'$', '')"
      ],
      "metadata": {
        "colab": {
          "base_uri": "https://localhost:8080/"
        },
        "id": "c4LrsMmw6Vx2",
        "outputId": "bafe6a73-b966-41e1-b4f6-57ff132ed4ca"
      },
      "execution_count": null,
      "outputs": [
        {
          "output_type": "stream",
          "name": "stderr",
          "text": [
            "/usr/local/lib/python3.7/dist-packages/ipykernel_launcher.py:1: FutureWarning: The default value of regex will change from True to False in a future version. In addition, single character regular expressions will *not* be treated as literal strings when regex=True.\n",
            "  \"\"\"Entry point for launching an IPython kernel.\n"
          ]
        }
      ]
    },
    {
      "cell_type": "code",
      "source": [
        "df_book[\"Price\"] = pd.to_numeric(df_book[\"Price\"])"
      ],
      "metadata": {
        "id": "phGDXNQA6_s8"
      },
      "execution_count": null,
      "outputs": []
    },
    {
      "cell_type": "code",
      "source": [
        "df_book.to_csv('barnes&noble_products_cleaning.csv', index=False, encoding='utf-8')"
      ],
      "metadata": {
        "id": "yWfyf_DY-iDe"
      },
      "execution_count": null,
      "outputs": []
    }
  ]
}